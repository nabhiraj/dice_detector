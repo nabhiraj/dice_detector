{
 "cells": [
  {
   "cell_type": "code",
   "execution_count": 415,
   "metadata": {},
   "outputs": [],
   "source": [
    "import numpy as np\n",
    "from cv2 import cv2\n",
    "import matplotlib.pyplot as plt"
   ]
  },
  {
   "cell_type": "code",
   "execution_count": 416,
   "metadata": {},
   "outputs": [],
   "source": [
    "def binarise(im,thres):\n",
    "    height=im.shape[0]\n",
    "    width=im.shape[1]\n",
    "    res=np.empty(im.shape,np.uint8)\n",
    "    for h in range(height):\n",
    "        for w in range(width):\n",
    "            if im[h,w]<=thres:\n",
    "                res[h,w]=0\n",
    "            else:\n",
    "                res[h,w]=1\n",
    "    return res"
   ]
  },
  {
   "cell_type": "code",
   "execution_count": 417,
   "metadata": {},
   "outputs": [],
   "source": [
    "def linContrastStretchin(im,a,b):\n",
    "    if len(im.shape)==3:\n",
    "        channels=im.shape[2]\n",
    "    else:\n",
    "        channels=1\n",
    "    b=np.array([b]*channels)\n",
    "    a=np.array([a]*channels)\n",
    "    min_px=im.min(axis=(0,1))\n",
    "    max_px=im.max(axis=(0,1))\n",
    "    temp=((b-a)/(max_px-min_px))*(im-min_px)+a\n",
    "    temp=temp.astype(int)\n",
    "    return temp"
   ]
  },
  {
   "cell_type": "code",
   "execution_count": 418,
   "metadata": {},
   "outputs": [],
   "source": [
    "def dise_output(dice_img,blur_size,mor_size):\n",
    "    dice_img=cv2.blur(dice_img,(blur_size,blur_size))\n",
    "    bimg=binarise(dice_img,100)\n",
    "    kernel=np.ones((mor_size,mor_size),np.uint8)\n",
    "    bimg=cv2.morphologyEx(bimg, cv2.MORPH_CLOSE,kernel)\n",
    "    bimg=cv2.morphologyEx(bimg,cv2.MORPH_OPEN,kernel)\n",
    "    ret, labels = cv2.connectedComponents(bimg)\n",
    "    return ret-2"
   ]
  },
  {
   "cell_type": "code",
   "execution_count": 419,
   "metadata": {},
   "outputs": [],
   "source": [
    "dice_img=cv2.imread('d3.jpeg',cv2.IMREAD_GRAYSCALE)\n"
   ]
  },
  {
   "cell_type": "code",
   "execution_count": 420,
   "metadata": {},
   "outputs": [
    {
     "name": "stdout",
     "output_type": "stream",
     "text": [
      "3\n"
     ]
    }
   ],
   "source": [
    "print(dise_output(dice_img,5,7))"
   ]
  },
  {
   "cell_type": "code",
   "execution_count": 393,
   "metadata": {},
   "outputs": [
    {
     "data": {
      "text/plain": [
       "<matplotlib.image.AxesImage at 0x18a30b20>"
      ]
     },
     "execution_count": 393,
     "metadata": {},
     "output_type": "execute_result"
    },
    {
     "data": {
      "image/png": "[encoded data removed]",
      "text/plain": [
       "<Figure size 432x288 with 1 Axes>"
      ]
     },
     "metadata": {
      "needs_background": "light"
     },
     "output_type": "display_data"
    }
   ],
   "source": [
    "dice_img=cv2.blur(dice_img,(5,5))\n",
    "plt.imshow(dice_img,cmap='gray')"
   ]
  },
  {
   "cell_type": "code",
   "execution_count": 395,
   "metadata": {},
   "outputs": [],
   "source": [
    "bimg=binarise(dice_img,100)"
   ]
  },
  {
   "cell_type": "code",
   "execution_count": 396,
   "metadata": {},
   "outputs": [],
   "source": [
    "kernel =np.ones((7,7),np.uint8)\n"
   ]
  },
  {
   "cell_type": "code",
   "execution_count": 397,
   "metadata": {},
   "outputs": [
    {
     "name": "stdout",
     "output_type": "stream",
     "text": [
      "[[1 1 1 1 1 1 1]\n",
      " [1 1 1 1 1 1 1]\n",
      " [1 1 1 1 1 1 1]\n",
      " [1 1 1 1 1 1 1]\n",
      " [1 1 1 1 1 1 1]\n",
      " [1 1 1 1 1 1 1]\n",
      " [1 1 1 1 1 1 1]]\n"
     ]
    }
   ],
   "source": [
    "print(kernel)"
   ]
  },
  {
   "cell_type": "code",
   "execution_count": 398,
   "metadata": {},
   "outputs": [],
   "source": [
    "bimg=cv2.morphologyEx(bimg, cv2.MORPH_CLOSE,kernel)\n",
    "bimg=cv2.morphologyEx(bimg,cv2.MORPH_OPEN,kernel)"
   ]
  },
  {
   "cell_type": "code",
   "execution_count": 399,
   "metadata": {},
   "outputs": [
    {
     "data": {
      "text/plain": [
       "<matplotlib.image.AxesImage at 0x18984118>"
      ]
     },
     "execution_count": 399,
     "metadata": {},
     "output_type": "execute_result"
    },
    {
     "data": {
      "image/png": "[encoded data removed]",
      "text/plain": [
       "<Figure size 432x288 with 1 Axes>"
      ]
     },
     "metadata": {
      "needs_background": "light"
     },
     "output_type": "display_data"
    }
   ],
   "source": [
    "plt.imshow(bimg,cmap='gray')"
   ]
  },
  {
   "cell_type": "code",
   "execution_count": 400,
   "metadata": {},
   "outputs": [],
   "source": [
    "ret, labels = cv2.connectedComponents(bimg)"
   ]
  },
  {
   "cell_type": "code",
   "execution_count": 401,
   "metadata": {},
   "outputs": [
    {
     "name": "stdout",
     "output_type": "stream",
     "text": [
      "the roll in dice is  1\n"
     ]
    }
   ],
   "source": [
    "print('the roll in dice is ',ret-2)"
   ]
  },
  {
   "cell_type": "code",
   "execution_count": null,
   "metadata": {},
   "outputs": [],
   "source": []
  },
  {
   "cell_type": "code",
   "execution_count": 402,
   "metadata": {},
   "outputs": [
    {
     "data": {
      "text/plain": [
       "True"
      ]
     },
     "execution_count": 402,
     "metadata": {},
     "output_type": "execute_result"
    }
   ],
   "source": [
    "bb=linContrastStretchin(bimg,0,255)\n",
    "cv2.imwrite('wri.jpeg',bb)"
   ]
  },
  {
   "cell_type": "code",
   "execution_count": null,
   "metadata": {},
   "outputs": [],
   "source": []
  }
 ],
 "metadata": {
  "kernelspec": {
   "display_name": "Python 3",
   "language": "python",
   "name": "python3"
  },
  "language_info": {
   "codemirror_mode": {
    "name": "ipython",
    "version": 3
   },
   "file_extension": ".py",
   "mimetype": "text/x-python",
   "name": "python",
   "nbconvert_exporter": "python",
   "pygments_lexer": "ipython3",
   "version": "3.8.0"
  }
 },
 "nbformat": 4,
 "nbformat_minor": 4
}
